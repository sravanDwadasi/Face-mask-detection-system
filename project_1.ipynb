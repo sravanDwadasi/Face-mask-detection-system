{
  "cells": [
    {
      "cell_type": "code",
      "execution_count": 1,
      "id": "07b96a0e",
      "metadata": {
        "colab": {
          "base_uri": "https://localhost:8080/",
          "height": 0
        },
        "id": "07b96a0e",
        "outputId": "7ac60f25-f34f-4f7b-9c84-909416605510"
      },
      "outputs": [
        {
          "output_type": "stream",
          "name": "stdout",
          "text": [
            "Looking in indexes: https://pypi.org/simple, https://us-python.pkg.dev/colab-wheels/public/simple/\n",
            "Requirement already satisfied: opencv-python in /usr/local/lib/python3.7/dist-packages (4.6.0.66)\n",
            "Requirement already satisfied: numpy>=1.14.5 in /usr/local/lib/python3.7/dist-packages (from opencv-python) (1.21.6)\n"
          ]
        }
      ],
      "source": [
        "!pip install opencv-python"
      ]
    },
    {
      "cell_type": "code",
      "execution_count": 2,
      "id": "9907c7f9",
      "metadata": {
        "id": "9907c7f9"
      },
      "outputs": [],
      "source": [
        "import cv2"
      ]
    },
    {
      "cell_type": "code",
      "execution_count": 3,
      "id": "feb25e29",
      "metadata": {
        "id": "feb25e29"
      },
      "outputs": [],
      "source": [
        "img = cv2.imread('Sravan.jpeg')"
      ]
    },
    {
      "cell_type": "code",
      "execution_count": 4,
      "id": "1adadb62",
      "metadata": {
        "colab": {
          "base_uri": "https://localhost:8080/",
          "height": 165
        },
        "id": "1adadb62",
        "outputId": "ce98270a-34cf-4032-af87-51ff7e99a485"
      },
      "outputs": [
        {
          "output_type": "error",
          "ename": "AttributeError",
          "evalue": "ignored",
          "traceback": [
            "\u001b[0;31m---------------------------------------------------------------------------\u001b[0m",
            "\u001b[0;31mAttributeError\u001b[0m                            Traceback (most recent call last)",
            "\u001b[0;32m<ipython-input-4-32ad6cb7aa56>\u001b[0m in \u001b[0;36m<module>\u001b[0;34m\u001b[0m\n\u001b[0;32m----> 1\u001b[0;31m \u001b[0mimg\u001b[0m\u001b[0;34m.\u001b[0m\u001b[0mshape\u001b[0m\u001b[0;34m\u001b[0m\u001b[0;34m\u001b[0m\u001b[0m\n\u001b[0m",
            "\u001b[0;31mAttributeError\u001b[0m: 'NoneType' object has no attribute 'shape'"
          ]
        }
      ],
      "source": [
        "img.shape"
      ]
    },
    {
      "cell_type": "code",
      "execution_count": null,
      "id": "830f8acc",
      "metadata": {
        "id": "830f8acc"
      },
      "outputs": [],
      "source": [
        "img[0]"
      ]
    },
    {
      "cell_type": "code",
      "execution_count": null,
      "id": "2b3c6be5",
      "metadata": {
        "id": "2b3c6be5"
      },
      "outputs": [],
      "source": [
        "import matplotlib.pyplot as plt"
      ]
    },
    {
      "cell_type": "code",
      "execution_count": null,
      "id": "a3630dfe",
      "metadata": {
        "id": "a3630dfe"
      },
      "outputs": [],
      "source": [
        "plt.imshow(img)"
      ]
    },
    {
      "cell_type": "code",
      "execution_count": null,
      "id": "8c219518",
      "metadata": {
        "id": "8c219518"
      },
      "outputs": [],
      "source": [
        "while True:\n",
        "    cv2.imshow('result',img)\n",
        "    if cv2.waitKey(2) == 27:\n",
        "        break\n",
        "cv2.destroyAllWindows()"
      ]
    },
    {
      "cell_type": "code",
      "execution_count": null,
      "id": "5e70d2be",
      "metadata": {
        "id": "5e70d2be"
      },
      "outputs": [],
      "source": [
        "haar_data = cv2.CascadeClassifier('x.xml')"
      ]
    },
    {
      "cell_type": "code",
      "execution_count": null,
      "id": "a6a9a893",
      "metadata": {
        "id": "a6a9a893"
      },
      "outputs": [],
      "source": [
        "haar_data.detectMultiScale(img)"
      ]
    },
    {
      "cell_type": "code",
      "execution_count": null,
      "id": "9d304a8d",
      "metadata": {
        "id": "9d304a8d"
      },
      "outputs": [],
      "source": [
        "# cv2.rectangle(img,(x,y),(w,h),(b,g,r),border_thickness)"
      ]
    },
    {
      "cell_type": "code",
      "execution_count": null,
      "id": "418ca1ac",
      "metadata": {
        "id": "418ca1ac"
      },
      "outputs": [],
      "source": [
        "while True:\n",
        "    face = haar_data.detectMultiScale(img)\n",
        "    for x,y,w,h in face:\n",
        "        cv2.rectangle(img,(x,y),(x+w,y+h),(255,0,255),4)\n",
        "    cv2.imshow('result',img)\n",
        "    if cv2.waitKey(2) == 27:\n",
        "        break\n",
        "cv2.destroyAllWindows()"
      ]
    },
    {
      "cell_type": "code",
      "execution_count": null,
      "id": "f4d83dc1",
      "metadata": {
        "id": "f4d83dc1"
      },
      "outputs": [],
      "source": [
        "capture = cv2.VideoCapture(0)\n",
        "data = []\n",
        "while True:\n",
        "    flag, img = capture.read()\n",
        "    if flag:\n",
        "        faces = haar_data.detectMultiScale(img)\n",
        "        for x,y,w,h in faces:\n",
        "            cv2.rectangle(img,(x,y),(x+w,y+h),(255,0,255),4)\n",
        "            face = img[y:y+h,x:x+w,:]\n",
        "            face = cv2.resize(face,(50,50))\n",
        "            print(len(data))\n",
        "            if len(data)<400:\n",
        "                data.append(face)\n",
        "        cv2.imshow('result',img)\n",
        "        if cv2.waitKey(2) == 27 or len(data)>=200:\n",
        "            break\n",
        "capture.release()\n",
        "cv2.destroyAllWindows()"
      ]
    },
    {
      "cell_type": "code",
      "execution_count": null,
      "id": "2d05a364",
      "metadata": {
        "id": "2d05a364"
      },
      "outputs": [],
      "source": [
        "import numpy as np\n",
        "np.save('without_mask.npy',data)\n"
      ]
    },
    {
      "cell_type": "code",
      "execution_count": null,
      "id": "61f5bd9a",
      "metadata": {
        "id": "61f5bd9a"
      },
      "outputs": [],
      "source": [
        "np.save('with_mask.npy',data)"
      ]
    },
    {
      "cell_type": "code",
      "execution_count": null,
      "id": "73b268ae",
      "metadata": {
        "id": "73b268ae"
      },
      "outputs": [],
      "source": []
    }
  ],
  "metadata": {
    "kernelspec": {
      "display_name": "Python 3",
      "language": "python",
      "name": "python3"
    },
    "language_info": {
      "codemirror_mode": {
        "name": "ipython",
        "version": 3
      },
      "file_extension": ".py",
      "mimetype": "text/x-python",
      "name": "python",
      "nbconvert_exporter": "python",
      "pygments_lexer": "ipython3",
      "version": "3.8.8"
    },
    "colab": {
      "provenance": []
    }
  },
  "nbformat": 4,
  "nbformat_minor": 5
}